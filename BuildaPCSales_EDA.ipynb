{
 "cells": [
  {
   "cell_type": "code",
   "execution_count": 71,
   "metadata": {},
   "outputs": [],
   "source": [
    "import re\n",
    "import praw\n",
    "import pandas as pd\n",
    "from urllib.parse import urlparse\n",
    "from datetime import datetime, timedelta"
   ]
  },
  {
   "attachments": {},
   "cell_type": "markdown",
   "metadata": {},
   "source": [
    "Create authorized PRAW instance"
   ]
  },
  {
   "cell_type": "code",
   "execution_count": 72,
   "metadata": {},
   "outputs": [],
   "source": [
    "# Create a Reddit instance\n",
    "reddit = praw.Reddit(\n",
    "    client_id='XQe5nwF9-C44Jb2K4KuYVA',\n",
    "    client_secret='OEukMAkDtaCXJ8D7YQ_OBohd52RXtQ',\n",
    "    user_agent='Data_Analysis_project'\n",
    ")\n",
    "\n",
    "# Access the \"buildapcsales\" subreddit\n",
    "subreddit = reddit.subreddit('buildapcsales')"
   ]
  },
  {
   "attachments": {},
   "cell_type": "markdown",
   "metadata": {},
   "source": [
    "get 1000 posts from top this year (can only retrieve 1000 posts due to reddit limit)"
   ]
  },
  {
   "cell_type": "code",
   "execution_count": 73,
   "metadata": {},
   "outputs": [
    {
     "name": "stdout",
     "output_type": "stream",
     "text": [
      "                                               Title                 Flair  \\\n",
      "0  [META] Micro Center is expanding with three ne...                 Meta    \n",
      "1          [META] EVGA Terminates NVIDIA Partnership                 Meta    \n",
      "2  [Console] Steam Deck - 64GB/$359 256GB/$476 51...               Console   \n",
      "3  [META] NVIDIA GeForce RTX 4090 24GB GDDR6X to ...                 Meta    \n",
      "4  [Monitor] Dell 27” S2721DGF 1440p 165Hz IPS 1m...  Expired :table_flip:   \n",
      "\n",
      "   Score   Created UTC                                                URL  \\\n",
      "0   3732  1.678456e+09  https://www.pcmag.com/news/electronics-retaile...   \n",
      "1   2960  1.663356e+09        https://www.youtube.com/watch?v=cV9QES-FUAM   \n",
      "2   2067  1.678986e+09           https://store.steampowered.com/steamdeck   \n",
      "3   2023  1.663688e+09  https://www.nvidia.com/en-us/geforce/graphics-...   \n",
      "4   2005  1.666010e+09  https://www.dell.com/en-us/shop/dell-27-gaming...   \n",
      "\n",
      "          Author  Num_Comments  \n",
      "0     ctskifreak           744  \n",
      "1   thepunish_br           688  \n",
      "2  maddenman2000           509  \n",
      "3          ImRBJ          1438  \n",
      "4  BlackBeard420           657  \n"
     ]
    }
   ],
   "source": [
    "# Get the top posts of this year\n",
    "top_posts = subreddit.top(time_filter='year', limit=None)\n",
    "\n",
    "# Create a list to store the post attributes\n",
    "post_attributes = []\n",
    "\n",
    "# Retrieve and store the attributes of each post\n",
    "for post in top_posts:\n",
    "    post_attributes.append([post.title, post.link_flair_text, post.score, post.created_utc, post.url, str(post.author), post.num_comments])\n",
    "\n",
    "# Create a pandas DataFrame from the post attributes\n",
    "df = pd.DataFrame(post_attributes, columns=['Title', 'Flair', 'Score', 'Created UTC', 'URL', 'Author', 'Num_Comments'])\n",
    "\n",
    "print(df.head(5))"
   ]
  },
  {
   "attachments": {},
   "cell_type": "markdown",
   "metadata": {},
   "source": [
    "fix date format"
   ]
  },
  {
   "cell_type": "code",
   "execution_count": 74,
   "metadata": {},
   "outputs": [
    {
     "name": "stdout",
     "output_type": "stream",
     "text": [
      "                                                 Title                 Flair  \\\n",
      "0    [META] MICRO CENTER IS EXPANDING WITH THREE NE...                 META    \n",
      "1            [META] EVGA TERMINATES NVIDIA PARTNERSHIP                 META    \n",
      "2    [CONSOLE] STEAM DECK - 64GB/$359 256GB/$476 51...               CONSOLE   \n",
      "3    [META] NVIDIA GEFORCE RTX 4090 24GB GDDR6X TO ...                 META    \n",
      "4    [MONITOR] DELL 27” S2721DGF 1440P 165HZ IPS 1M...  EXPIRED :TABLE_FLIP:   \n",
      "..                                                 ...                   ...   \n",
      "995  [GPU] ASUS TUF GAMING AMD RADEON™ RX 6800 XT O...  EXPIRED :TABLE_FLIP:   \n",
      "996  [GPU] ASUS DUAL RADEON RX 6700 XT 12GB OC EDIT...                   GPU   \n",
      "997  [GPU] GIGABYTE GAMING GEFORCE RTX 3090 TI 24GB...                   GPU   \n",
      "998             [GPU] ASUS STRIX RTX 3080 12 GB - $800  EXPIRED :TABLE_FLIP:   \n",
      "999  [LAPTOP] GIGABYTE - AERO 16\" 4K AMOLED GAMING ...                LAPTOP   \n",
      "\n",
      "     Score   Created UTC                                                URL  \\\n",
      "0     3732  1.678456e+09  https://www.pcmag.com/news/electronics-retaile...   \n",
      "1     2960  1.663356e+09        https://www.youtube.com/watch?v=cV9QES-FUAM   \n",
      "2     2067  1.678986e+09           https://store.steampowered.com/steamdeck   \n",
      "3     2023  1.663688e+09  https://www.nvidia.com/en-us/geforce/graphics-...   \n",
      "4     2005  1.666010e+09  https://www.dell.com/en-us/shop/dell-27-gaming...   \n",
      "..     ...           ...                                                ...   \n",
      "995    199  1.669054e+09  https://www.amazon.com/ASUS-Graphics-DisplayPo...   \n",
      "996    198  1.668212e+09  https://www.newegg.com/asus-radeon-rx-6700-xt-...   \n",
      "997    200  1.663138e+09  https://www.newegg.com/gigabyte-geforce-rtx-30...   \n",
      "998    197  1.659638e+09  https://shop.asus.com/us/rog/90yv0fac-mtaa00-r...   \n",
      "999    199  1.656352e+09  https://www.bestbuy.com/site/gigabyte-aero-16-...   \n",
      "\n",
      "            Author  Num_Comments Created Date  \n",
      "0       ctskifreak           744   2023-03-10  \n",
      "1     thepunish_br           688   2022-09-16  \n",
      "2    maddenman2000           509   2023-03-16  \n",
      "3            ImRBJ          1438   2022-09-20  \n",
      "4    BlackBeard420           657   2022-10-17  \n",
      "..             ...           ...          ...  \n",
      "995       alyafeia           117   2022-11-21  \n",
      "996  CartonBox1975           107   2022-11-12  \n",
      "997       tasukify           100   2022-09-14  \n",
      "998       kev24680           111   2022-08-04  \n",
      "999  dream__weaver            49   2022-06-27  \n",
      "\n",
      "[1000 rows x 8 columns]\n"
     ]
    }
   ],
   "source": [
    "# Convert \"Created UTC\" to datetime object\n",
    "df['Created Date'] = pd.to_datetime(df['Created UTC'], unit='s').dt.date\n",
    "\n",
    "# Change \"flair\" column values to uppercase\n",
    "df['Flair'] = df['Flair'].str.upper()\n",
    "\n",
    "# Change \"Title\" column values to uppercase\n",
    "df['Title'] = df['Title'].str.upper()\n",
    "\n",
    "print(df)"
   ]
  },
  {
   "attachments": {},
   "cell_type": "markdown",
   "metadata": {},
   "source": [
    "get date range of dataset"
   ]
  },
  {
   "cell_type": "code",
   "execution_count": 75,
   "metadata": {},
   "outputs": [
    {
     "name": "stdout",
     "output_type": "stream",
     "text": [
      "Earliest Date: 2022-06-09\n",
      "Latest Date: 2023-06-08\n"
     ]
    }
   ],
   "source": [
    "# Find the earliest and latest dates\n",
    "earliest_date = min(df['Created Date'])\n",
    "latest_date = max(df['Created Date'])\n",
    "\n",
    "print(\"Earliest Date:\", earliest_date)\n",
    "print(\"Latest Date:\", latest_date)"
   ]
  },
  {
   "attachments": {},
   "cell_type": "markdown",
   "metadata": {},
   "source": [
    "Get website names"
   ]
  },
  {
   "cell_type": "code",
   "execution_count": 76,
   "metadata": {},
   "outputs": [
    {
     "name": "stdout",
     "output_type": "stream",
     "text": [
      "                                               Title                 Flair  \\\n",
      "0  [META] MICRO CENTER IS EXPANDING WITH THREE NE...                 META    \n",
      "1          [META] EVGA TERMINATES NVIDIA PARTNERSHIP                 META    \n",
      "2  [CONSOLE] STEAM DECK - 64GB/$359 256GB/$476 51...               CONSOLE   \n",
      "3  [META] NVIDIA GEFORCE RTX 4090 24GB GDDR6X TO ...                 META    \n",
      "4  [MONITOR] DELL 27” S2721DGF 1440P 165HZ IPS 1M...  EXPIRED :TABLE_FLIP:   \n",
      "\n",
      "   Score   Created UTC                                                URL  \\\n",
      "0   3732  1.678456e+09  https://www.pcmag.com/news/electronics-retaile...   \n",
      "1   2960  1.663356e+09        https://www.youtube.com/watch?v=cV9QES-FUAM   \n",
      "2   2067  1.678986e+09           https://store.steampowered.com/steamdeck   \n",
      "3   2023  1.663688e+09  https://www.nvidia.com/en-us/geforce/graphics-...   \n",
      "4   2005  1.666010e+09  https://www.dell.com/en-us/shop/dell-27-gaming...   \n",
      "\n",
      "          Author  Num_Comments Created Date             Website  \n",
      "0     ctskifreak           744   2023-03-10               pcmag  \n",
      "1   thepunish_br           688   2022-09-16             youtube  \n",
      "2  maddenman2000           509   2023-03-16  store.steampowered  \n",
      "3          ImRBJ          1438   2022-09-20              nvidia  \n",
      "4  BlackBeard420           657   2022-10-17                dell  \n"
     ]
    }
   ],
   "source": [
    "# Extract website name from URL\n",
    "df['Website'] = df['URL'].apply(lambda x: x.split('//')[-1].split('www.')[-1].split('.com')[0])\n",
    "\n",
    "print(df.head(5))"
   ]
  },
  {
   "attachments": {},
   "cell_type": "markdown",
   "metadata": {},
   "source": [
    "Extract Sub Flairs in Title column"
   ]
  },
  {
   "cell_type": "code",
   "execution_count": 77,
   "metadata": {},
   "outputs": [],
   "source": [
    "# Extract text between square brackets and create \"flair\" column\n",
    "df['Title Flair'] = df['Title'].apply(lambda x: re.findall(r'\\[(.*?)\\]', x)[0] if re.findall(r'\\[(.*?)\\]', x) else None)"
   ]
  },
  {
   "attachments": {},
   "cell_type": "markdown",
   "metadata": {},
   "source": [
    "Clean up Flair Column"
   ]
  },
  {
   "cell_type": "code",
   "execution_count": 78,
   "metadata": {},
   "outputs": [
    {
     "name": "stdout",
     "output_type": "stream",
     "text": [
      "['META ' 'CONSOLE' 'EXPIRED :TABLE_FLIP:' 'GPU' 'MISCELLANEOUS' 'MOD POST'\n",
      " 'CPU' 'EXPIRED' 'HEADPHONES' 'SSD - M.2' 'FURNITURE' 'CONTROLLER' 'OTHER'\n",
      " 'MONITOR' 'BUNDLE' 'PRINTER' 'CABLES' 'CASE' 'SSD - SATA' 'MOUSE' 'HDD'\n",
      " 'LAPTOP' 'RAM' 'SPEAKERS' 'PREBUILT' 'KEYBOARD' None 'PSU' 'NETWORKING'\n",
      " 'HEADSET' 'VR' 'MOTHERBOARD' 'FLASH DRIVE' 'COOLER' 'OPTICAL DRIVE' 'FAN'\n",
      " 'WEBCAM']\n"
     ]
    }
   ],
   "source": [
    "# Get all unique values in the \"flair\" column\n",
    "unique_flairs = df['Flair'].unique()\n",
    "\n",
    "print(unique_flairs)\n"
   ]
  },
  {
   "attachments": {},
   "cell_type": "markdown",
   "metadata": {},
   "source": [
    "Change \"Explired flairs\" with flair extracted from title"
   ]
  },
  {
   "cell_type": "code",
   "execution_count": 79,
   "metadata": {},
   "outputs": [
    {
     "name": "stdout",
     "output_type": "stream",
     "text": [
      "['META ' 'CONSOLE' 'MONITOR' 'GPU' 'CONTROLLER' 'MISCELLANEOUS' 'SSD'\n",
      " 'MOD POST' 'CPU' 'PREBUILT' 'GPUS' 'OS' 'HEADPHONES' 'SSD - M.2'\n",
      " 'FURNITURE' 'NVME' 'OTHER' 'RX 6600 XT' 'NVME SSD' 'BUNDLE' 'POWER STRIP'\n",
      " 'SPEAKERS'\n",
      " 'LG 27” ULTRAGEAR UHD NANO IPS 1MS 144HZ G-SYNC COMPATIBLE GAMING MONITOR WITH HDR (DISPLAYPORT, HDMI, USB) BLACK 27GN950-B'\n",
      " 'PRINTER' 'CABLES' 'CABLE' 'CASE' 'GAMING WHEEL' 'HDD' 'RAM' 'SSD - SATA'\n",
      " 'MOUSE' 'PSU' 'LAPTOP' 'GAMING LAPTOP' 'MONITOR ARM'\n",
      " 'LG 27\" ULTRAGEAR UHD NANO IPS 1MS 144HZ G-SYNC COMPATIBLE GAMING MONITOR WITH HDR (DISPLAYPORT, HDMI, USB) BLACK 27GN950-B'\n",
      " 'TV' 'COMBO' 'CHAIR' 'MICROPHONE' 'KEYBOARD' ' PREBUILT ' None 'M.2 SSD'\n",
      " 'CPU COOLER' ' MOTHERBOARD ' 'CPU+MOBO' 'COOLER' ' MONITOR ' 'GIVEAWAY'\n",
      " 'NETWORKING' 'SSD-M.2' 'HEADSET' 'SATA SSD' 'VR' 'MOTHERBOARD'\n",
      " 'FLASH DRIVE' 'MOUSE PAD' 'MICRO SD' 'EVGA' 'GRAPHICS CARD' 'WEBCAM'\n",
      " 'AIO COOLER' 'MISC' 'MONITOR/TV' 'ASUS TUF 6800XT' 'MONITOR MOUNT'\n",
      " 'EXTERNAL SSD' 'VR HEADSET' 'DUSTER' 'OPTICAL DRIVE' 'PRODUCT TYPE' 'FAN'\n",
      " 'ROUTER']\n"
     ]
    }
   ],
   "source": [
    "\n",
    "# Update \"flair\" column if value is \"EXPIRED :TABLE_FLIP:\"\n",
    "df.loc[df['Flair'] == 'EXPIRED :TABLE_FLIP:', 'Flair'] = df.loc[df['Flair'] == 'EXPIRED :TABLE_FLIP:', 'Title Flair']\n",
    "\n",
    "# Update \"flair\" column if value is \"EXPIRED :TABLE_FLIP:\"\n",
    "df.loc[df['Flair'] == 'EXPIRED', 'Flair'] = df.loc[df['Flair'] == 'EXPIRED', 'Title Flair']\n",
    "\n",
    "# Change \"flair\" column values to uppercase\n",
    "df['Flair'] = df['Flair'].str.upper()\n",
    "\n",
    "# Get all unique values in the \"flair\" column\n",
    "unique_flairs = df['Flair'].unique()\n",
    "\n",
    "df['Flair'] = df['Flair'].str.upper()\n",
    "print(unique_flairs)\n"
   ]
  },
  {
   "attachments": {},
   "cell_type": "markdown",
   "metadata": {},
   "source": [
    "clean up the new flairs"
   ]
  },
  {
   "cell_type": "code",
   "execution_count": 82,
   "metadata": {},
   "outputs": [
    {
     "name": "stdout",
     "output_type": "stream",
     "text": [
      "['CONSOLE' 'MONITOR' 'GPU' 'MISCELLANEOUS' 'STORAGE' 'CPU' 'PC or LAPTOP'\n",
      " 'PC PARTS' 'AUDIO' 'BUNDLE']\n"
     ]
    }
   ],
   "source": [
    "# group items'\n",
    "df['Flair'] = df['Flair'].replace(['LG 27\" UltraGear UHD Nano IPS 1ms 144Hz G-SYNC Compatible Gaming Monitor with HDR (DisplayPort, HDMI, USB) Black 27GN950-B',\n",
    "                                   'LG 27\" ULTRAGEAR UHD NANO IPS 1MS 144HZ G-SYNC COMPATIBLE GAMING MONITOR WITH HDR (DISPLAYPORT, HDMI, USB) BLACK 27GN950-B',\n",
    "                                   'LG 27” ULTRAGEAR UHD NANO IPS 1MS 144HZ G-SYNC COMPATIBLE GAMING MONITOR WITH HDR (DISPLAYPORT, HDMI, USB) BLACK 27GN950-B',\n",
    "                                   ' MONITOR ', 'MONITOR/TV', 'TV' ],\n",
    "                                  'MONITOR')\n",
    "\n",
    "df['Flair'] = df['Flair'].replace(['GPUS', 'RX 6600 XT', 'EVGA', 'GRAPHICS CARD', 'ASUS TUF 6800XT',  ],\n",
    "                                  'GPU')\n",
    "\n",
    "df['Flair'] = df['Flair'].replace(['CASE', 'RAM', 'PSU', 'KEYBOARD', 'CPU COOLER', 'COOLER', 'AIO COOLER', 'OPTICAL DRIVE', 'FAN', 'OS', 'MOUSE', ' MOTHERBOARD ', 'MOTHERBOARD'  ],\n",
    "                                  'PC PARTS')\n",
    "\n",
    "df['Flair'] = df['Flair'].replace(['SSD', 'SSD - M.2', 'NVME', 'NVME SSD', 'HDD', 'SSD - SATA', 'M.2 SSD', 'SATA SSD', 'FLASH DRIVE', 'SSD-M.2', 'EXTERNAL SSD'  ],\n",
    "                                  'STORAGE')\n",
    "\n",
    "df['Flair'] = df['Flair'].replace(['CONTROLLER', 'FURNITURE', 'OTHER', 'POWER STRIP', 'PRINTER', 'CABLES', 'CABLE', 'GAMING WHEEL', 'MONITOR ARM', 'CHAIR', 'VR', 'MOUSE PAD', 'MICRO SD', 'WEBCAM', 'MISC', 'MONITOR MOUNT', 'VR HEADSET', 'DUSTER', 'ROUTER', 'NETWORKING'  ],\n",
    "                                  'MISCELLANEOUS')\n",
    "\n",
    "df['Flair'] = df['Flair'].replace(['HEADPHONES', 'SPEAKERS', 'MICROPHONE', 'HEADSET', 'ASUS TUF 6800XT',  ],\n",
    "                                  'AUDIO')\n",
    "\n",
    "df['Flair'] = df['Flair'].replace(['BUNDLE', 'COMBO', ' PREBUILT ', 'CPU+MOBO',  ],\n",
    "                                  'BUNDLE')\n",
    "\n",
    "df['Flair'] = df['Flair'].replace(['PREBUILT', 'LAPTOP', 'GAMING LAPTOP'],\n",
    "                                  'PC or LAPTOP')\n",
    "\n",
    "# Drop rows with specific flair values\n",
    "flairs_to_drop = ['META', 'MOD POST', None, 'GIVEAWAY', 'PRODUCT TYPE', 'META ']\n",
    "df = df[~df['Flair'].isin(flairs_to_drop)]\n",
    "\n",
    "# Get all unique values in the \"flair\" column\n",
    "unique_flairs = df['Flair'].unique()\n",
    "\n",
    "print(unique_flairs)"
   ]
  },
  {
   "cell_type": "code",
   "execution_count": 83,
   "metadata": {},
   "outputs": [],
   "source": [
    "# Export DataFrame to CSV file\n",
    "csv_path = r'C:\\Users\\minty\\OneDrive\\Desktop\\Python Pandas\\data.csv'\n",
    "df.to_csv(csv_path, index=False)"
   ]
  },
  {
   "cell_type": "code",
   "execution_count": null,
   "metadata": {},
   "outputs": [],
   "source": []
  }
 ],
 "metadata": {
  "kernelspec": {
   "display_name": "base",
   "language": "python",
   "name": "python3"
  },
  "language_info": {
   "codemirror_mode": {
    "name": "ipython",
    "version": 3
   },
   "file_extension": ".py",
   "mimetype": "text/x-python",
   "name": "python",
   "nbconvert_exporter": "python",
   "pygments_lexer": "ipython3",
   "version": "3.10.9"
  },
  "orig_nbformat": 4
 },
 "nbformat": 4,
 "nbformat_minor": 2
}
